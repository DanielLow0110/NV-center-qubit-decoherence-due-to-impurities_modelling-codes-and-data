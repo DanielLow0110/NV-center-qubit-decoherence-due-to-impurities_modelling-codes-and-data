{
 "cells": [
  {
   "cell_type": "code",
   "execution_count": 1,
   "metadata": {},
   "outputs": [
    {
     "name": "stderr",
     "output_type": "stream",
     "text": [
      "C:\\Users\\Daniel Low\\Anaconda3\\lib\\site-packages\\pandas\\compat\\_optional.py:138: UserWarning: Pandas requires version '2.7.0' or newer of 'numexpr' (version '2.6.9' currently installed).\n",
      "  warnings.warn(msg, UserWarning)\n",
      "C:\\Users\\Daniel Low\\Anaconda3\\lib\\site-packages\\qutip\\__init__.py:61: UserWarning: Old version of Cython detected: needed 0.29.20, got 0.29.12.\n",
      "  .format(_cy_require, _Cython.__version__)\n"
     ]
    }
   ],
   "source": [
    "import numpy as np\n",
    "import matplotlib.pyplot as plt\n",
    "import pandas as pd\n",
    "\n",
    "import sys\n",
    "import pycce as pc\n",
    "import ase\n",
    "\n",
    "import warnings\n",
    "\n",
    "from mpl_toolkits import mplot3d\n",
    "\n",
    "from qutip import *\n",
    "\n",
    "from ase.build import bulk\n",
    "\n",
    "import pycce.filter\n",
    "\n",
    "import scipy.stats as stats\n",
    "from scipy.optimize import curve_fit"
   ]
  },
  {
   "cell_type": "code",
   "execution_count": 2,
   "metadata": {},
   "outputs": [
    {
     "data": {
      "text/html": [
       "<div id=\"glowscript\" class=\"glowscript\"></div>"
      ],
      "text/plain": [
       "<IPython.core.display.HTML object>"
      ]
     },
     "metadata": {},
     "output_type": "display_data"
    },
    {
     "data": {
      "application/javascript": [
       "if (typeof Jupyter !== \"undefined\") { window.__context = { glowscript_container: $(\"#glowscript\").removeAttr(\"id\")};}else{ element.textContent = ' ';}"
      ],
      "text/plain": [
       "<IPython.core.display.Javascript object>"
      ]
     },
     "metadata": {},
     "output_type": "display_data"
    }
   ],
   "source": [
    "from vpython import sphere,color,rate,canvas,vector,curve,label,box,cross,mag,random,arrow,cylinder"
   ]
  },
  {
   "cell_type": "code",
   "execution_count": 3,
   "metadata": {},
   "outputs": [],
   "source": [
    "\n",
    "x = np.array([0, 0.25, 0  , 0.25, 0.5, 0.75, 0.5, 0.75, 1, 0, 0, 1, 0, 1, 1, ])\n",
    "y = np.array([0, 0.25, 0.5, 0.75, 0  , 0.25, 0.5, 0.75, 1, 0, 1, 0, 1, 0, 1, ])\n",
    "z = np.array([0, 0.25, 0.5, 0.75, 0.5, 0.75, 0  , 0.25, 1, 1, 0, 0, 1, 1, 0, ])\n",
    "\n",
    "# x1 = np.array([0.5, 0.5, 0.5, 0.5, 0.5, 0.5, 0.5, 0.5, 0.5, 0.5, 0.5, 0.5, 0.5, 0.5, 0.5, 0.5, 0.5])\n",
    "# y1 = np.array([0.5, 0.5, 0.6, 0.7, 0.8, 0.9, 1.0, 1.1, 1.2, 1.3, 1.2, 1.1, 1.0, 0.9, 0.8, 0.7, 0.6])\n",
    "# z1 = np.array([0.5, 1.3, 1.293725393, 1.27459669, 1.241619849, 1.192820323, 1.1244998, 1.029150262, 0.8872983346, 0.5,\n",
    "#               0.1127016654, -0.02915026221, -0.1244997998, -0.192820323, -0.2416198487, -0.2745966692, -0.2937253933])\n",
    "\n",
    "x1 = np.array([0      , -1.85503, -1.9181 , -1.95851, -1.97624, -1.96305, -1.91895, -1.83568 ])\n",
    "y1 = np.array([0      , -1.85503, -1.5611 , -1.24451, -0.90524, -0.53505, -0.13395,  0.30632 ])\n",
    "z1 = np.array([3.09171,  4.94674,  5.14048,  5.31156,  5.45996,  5.57745,  5.66401,  5.71142 ])"
   ]
  },
  {
   "cell_type": "code",
   "execution_count": 12,
   "metadata": {},
   "outputs": [
    {
     "data": {
      "text/html": [
       "<div id=\"glowscript\" class=\"glowscript\"></div>"
      ],
      "text/plain": [
       "<IPython.core.display.HTML object>"
      ]
     },
     "metadata": {},
     "output_type": "display_data"
    },
    {
     "data": {
      "application/javascript": [
       "if (typeof Jupyter !== \"undefined\") { window.__context = { glowscript_container: $(\"#glowscript\").removeAttr(\"id\")};}else{ element.textContent = ' ';}"
      ],
      "text/plain": [
       "<IPython.core.display.Javascript object>"
      ]
     },
     "metadata": {},
     "output_type": "display_data"
    }
   ],
   "source": [
    "scene = canvas(width=640, height=480, center=vector(0.5,0.5,0.5),range=8, background=vector(0.678, 0.847, 0.902))\n",
    "\n",
    "x = np.array([0, 0.25, 0  , 0.25, 0.5, 0.75, 0.5, 0.75, ])\n",
    "y = np.array([0, 0.25, 0.5, 0.75, 0  , 0.25, 0.5, 0.75, ])\n",
    "z = np.array([0, 0.25, 0.5, 0.75, 0.5, 0.75, 0  , 0.25, ])\n",
    "\n",
    "x1 = np.array([0.5, 0.5, 0.5, 0.5, 0.5, 0.5, 0.5, 0.5, 0.5, 0.5, 0.5, 0.5, 0.5, 0.5, 0.5, 0.5, 0.5])\n",
    "y1 = np.array([0.5, 0.5, 0.6, 0.7, 0.8, 0.9, 1.0, 1.1, 1.2, 1.3, 1.2, 1.1, 1.0, 0.9, 0.8, 0.7, 0.6])\n",
    "z1 = np.array([0.5, 1.3, 1.293725393, 1.27459669, 1.241619849, 1.192820323, 1.1244998, 1.029150262, 0.8872983346, 0.5,\n",
    "              0.1127016654, -0.02915026221, -0.1244997998, -0.192820323, -0.2416198487, -0.2745966692, -0.2937253933])\n",
    "\n",
    "# x1 = np.array([0      , -1.85503, -1.9181 , -1.95851, -1.97624, -1.96305, -1.91895, -1.83568 ])\n",
    "# y1 = np.array([0      , -1.85503, -1.5611 , -1.24451, -0.90524, -0.53505, -0.13395,  0.30632 ])\n",
    "# z1 = np.array([3.09171,  4.94674,  5.14048,  5.31156,  5.45996,  5.57745,  5.66401,  5.71142 ])\n",
    "\n",
    "for i in range(0,8):\n",
    "    sphere(pos=vector(x[i],y[i],z[i]), color=color.blue,radius=0.05)\n",
    "    sphere(pos=vector(x[i]+1,y[i]+1,z[i]+1), color=color.blue,radius=0.05)\n",
    "    sphere(pos=vector(x[i]-1,y[i]-1,z[i]-1), color=color.blue,radius=0.05)\n",
    "    sphere(pos=vector(x[i]+1,y[i],z[i]), color=color.blue,radius=0.05)\n",
    "    sphere(pos=vector(x[i],y[i],z[i]+1), color=color.blue,radius=0.05)\n",
    "    sphere(pos=vector(x[i],y[i]+1,z[i]), color=color.blue,radius=0.05)\n",
    "    sphere(pos=vector(x[i]-1,y[i],z[i]), color=color.blue,radius=0.05)\n",
    "    sphere(pos=vector(x[i],y[i],z[i]-1), color=color.blue,radius=0.05)\n",
    "    sphere(pos=vector(x[i],y[i]-1,z[i]), color=color.blue,radius=0.05)\n",
    "    \n",
    "sphere(pos=vector(0.5,0.5,0.5), color=color.red,radius=0.1) \n",
    "sphere(pos=vector(1,0.5,0.5), color=color.red,radius=0.1)\n",
    "sphere(pos=vector(1+1,0.5,0.5), color=color.red,radius=0.1)\n",
    "sphere(pos=vector(1,0.5+1,0.5), color=color.red,radius=0.1)\n",
    "sphere(pos=vector(1,0.5,0.5+1), color=color.red,radius=0.1)\n",
    "sphere(pos=vector(1+1,0.5+1,0.5+1), color=color.red,radius=0.1)\n",
    "sphere(pos=vector(1-1,0.5-1,0.5-1), color=color.red,radius=0.1)\n",
    "sphere(pos=vector(1-1,0.5,0.5), color=color.red,radius=0.1)\n",
    "sphere(pos=vector(1,0.5-1,0.5), color=color.red,radius=0.1)\n",
    "sphere(pos=vector(1,0.5,0.5-1), color=color.red,radius=0.1)\n",
    "\n",
    "cylinder(pos=vector(x[0],y[0],z[0]), color=color.blue, length=0.5, radius=0.005, axis=vector(1,1,1))"
   ]
  },
  {
   "cell_type": "code",
   "execution_count": null,
   "metadata": {},
   "outputs": [],
   "source": []
  }
 ],
 "metadata": {
  "kernelspec": {
   "display_name": "VPython",
   "language": "python",
   "name": "vpython"
  },
  "language_info": {
   "codemirror_mode": {
    "name": "ipython",
    "version": 3
   },
   "file_extension": ".py",
   "mimetype": "text/x-python",
   "name": "python",
   "nbconvert_exporter": "python",
   "pygments_lexer": "ipython3",
   "version": "3.7.3"
  }
 },
 "nbformat": 4,
 "nbformat_minor": 2
}
