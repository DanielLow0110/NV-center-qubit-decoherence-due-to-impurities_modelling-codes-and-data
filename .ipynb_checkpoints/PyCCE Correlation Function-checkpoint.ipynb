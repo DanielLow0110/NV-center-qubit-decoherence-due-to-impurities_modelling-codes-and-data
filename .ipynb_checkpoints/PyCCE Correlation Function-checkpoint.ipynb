{
 "cells": [
  {
   "cell_type": "markdown",
   "metadata": {
    "pycharm": {
     "name": "#%% md\n"
    }
   },
   "source": [
    "# Correlation function \n",
    "\n",
    "In this tutorial we will compute the coherence function of the NV Center in diamond and then reproduce it from the correlation function of the noise."
   ]
  },
  {
   "cell_type": "markdown",
   "metadata": {},
   "source": [
    "The correlation function $C(t)$ of the effective magnetic field (noise) along the $z$-axis can be defined as follows:\n",
    "\\begin{equation}\n",
    "C(t) = \\left\\langle \\beta_z(t)\\beta_z(0) \\right\\rangle\n",
    "\\end{equation}\n",
    "\n",
    "With $\\beta_z$ given as:\n",
    "\n",
    "\\begin{equation}\n",
    "\\beta_z(t) = U^{\\dagger}(t) \\left( \\sum_{\\{I\\}}{A_{zz} I_z} \\right) U(t)\n",
    "\\end{equation}\n",
    "\n",
    "Where $U(t)$ is time propagator.\n",
    "\n",
    "Within the CCE formalism, the correlation function is computed as:\n",
    "\n",
    "\\begin{equation}\n",
    "C(t) = \\sum_{\\{i\\}} {\\tilde C_{\\{i\\}}(t)} + \\sum_{\\{ij\\}} {\\tilde C_{\\{ij\\}}(t)}\\ + \\ ...\n",
    "\\end{equation}\n",
    "\n",
    "With contributions computed as:\n",
    "\n",
    "\\begin{equation}\n",
    "\\tilde C_{\\nu}(t) = C_{\\nu}(t) - \\sum_{\\nu'  \\subset\\ \\nu} {\\tilde C_{\\nu'}(t)}\n",
    "\\end{equation}\n"
   ]
  },
  {
   "cell_type": "code",
   "execution_count": 1,
   "metadata": {
    "pycharm": {
     "name": "#%%\n"
    }
   },
   "outputs": [],
   "source": [
    "import numpy as np\n",
    "import matplotlib.pyplot as plt\n",
    "import pandas as pd\n",
    "\n",
    "import sys\n",
    "\n",
    "import pycce as pc\n",
    "import ase\n",
    "\n",
    "seed = 42055\n",
    "np.set_printoptions(suppress=True, precision=5)"
   ]
  },
  {
   "cell_type": "markdown",
   "metadata": {
    "pycharm": {
     "name": "#%% md\n"
    }
   },
   "source": [
    "## Generate nuclear spin bath\n",
    "Building a `BathArray` of nuclear spins from the `ase.Atoms` object."
   ]
  },
  {
   "cell_type": "code",
   "execution_count": 2,
   "metadata": {},
   "outputs": [],
   "source": [
    "from ase.build import bulk\n",
    "\n",
    "# Generate unitcell from ase\n",
    "diamond = bulk('C', 'diamond', cubic=True)\n",
    "diamond = pc.bath.BathCell.from_ase(diamond)\n",
    "# Add types of isotopes\n",
    "diamond.add_isotopes(('13C', 0.011))\n",
    "# set z direction of the defect\n",
    "diamond.zdir = [1, 1, 1]\n",
    "# Add the defect. remove and add atoms at the positions (in cell coordinates)\n",
    "atoms = diamond.gen_supercell(200, remove=[('C', [0., 0, 0]),\n",
    "                                           ('C', [0.5, 0.5, 0.5])],\n",
    "                              add=('14N', [0.5, 0.5, 0.5]),\n",
    "                              seed=seed)"
   ]
  },
  {
   "cell_type": "markdown",
   "metadata": {},
   "source": [
    "Next, we define all of the parameters of the simulation. We are interested in the very specific regime, when all nearby nuclear spins are removed. To achieve this goal we define an `inner = 20` parameter, and remove all nuclear spins within this radius."
   ]
  },
  {
   "cell_type": "code",
   "execution_count": 3,
   "metadata": {},
   "outputs": [],
   "source": [
    "position = np.array([0, 0, 0])\n",
    "inner = 20\n",
    "smallatoms = atoms[atoms.dist(position) >= inner]\n",
    "\n",
    "parameters = dict(\n",
    "    order=2, # CCE order\n",
    "    r_bath=60,  # Size of the bath in A\n",
    "    r_dipole=6,  # Cutoff of pairwise clusters in A\n",
    "    position=position, # Position of central Spin\n",
    "    alpha=[0, 0, 1], # 0 qubit state\n",
    "    beta=[0, 1, 0], # 1 qubit state\n",
    "    magnetic_field = 500, # magnetic field along z-axis\n",
    "    pulses=1 # N pulses in CPMG sequence\n",
    ") # Qubit levels\n",
    "\n",
    "ts = np.linspace(0, 2.5, 1001)  # Time points in ms"
   ]
  },
  {
   "cell_type": "markdown",
   "metadata": {},
   "source": [
    "## Coherence calculations\n",
    "Next, we set up `Simulator` objects and check convergence with respect to the CCE order."
   ]
  },
  {
   "cell_type": "code",
   "execution_count": 4,
   "metadata": {},
   "outputs": [],
   "source": [
    "calc = pc.Simulator(spin=1, bath=smallatoms, **parameters)"
   ]
  },
  {
   "cell_type": "code",
   "execution_count": 5,
   "metadata": {},
   "outputs": [],
   "source": [
    "orders = [2, 3, 4]\n",
    "coh = {}\n",
    "for o in orders: \n",
    "    calc.generate_clusters(o)\n",
    "    coh[o] = calc.compute(ts, method='cce', quantity='coherence')\n",
    "coh = np.abs(pd.DataFrame(coh, index=ts))\n",
    "coh.index.name = 'Time (ms)'"
   ]
  },
  {
   "cell_type": "markdown",
   "metadata": {},
   "source": [
    "Visually verify the convergence."
   ]
  },
  {
   "cell_type": "code",
   "execution_count": 6,
   "metadata": {},
   "outputs": [
    {
     "data": {
      "image/png": "[encoded data removed]",
      "text/plain": [
       "<Figure size 432x288 with 1 Axes>"
      ]
     },
     "metadata": {
      "needs_background": "light"
     },
     "output_type": "display_data"
    }
   ],
   "source": [
    "coh.plot()\n",
    "plt.ylabel('Coherence');"
   ]
  },
  {
   "cell_type": "markdown",
   "metadata": {},
   "source": [
    "## Noise calculations\n",
    "To compute the correlation function of the noise, we call `Simulator.compute` method and specify `quantity = 'noise'`.\n",
    "\n",
    "First we determine convergence of the correlation function with the CCE order."
   ]
  },
  {
   "cell_type": "code",
   "execution_count": 7,
   "metadata": {},
   "outputs": [
    {
     "ename": "TypeError",
     "evalue": "generate_projections() missing 1 required positional argument: 'state_a'",
     "output_type": "error",
     "traceback": [
      "\u001b[1;31m---------------------------------------------------------------------------\u001b[0m",
      "\u001b[1;31mTypeError\u001b[0m                                 Traceback (most recent call last)",
      "\u001b[1;32m<ipython-input-7-5f4d55899dcb>\u001b[0m in \u001b[0;36m<module>\u001b[1;34m\u001b[0m\n\u001b[0;32m      1\u001b[0m \u001b[1;32mfor\u001b[0m \u001b[0mo\u001b[0m \u001b[1;32min\u001b[0m \u001b[1;33m[\u001b[0m\u001b[1;36m1\u001b[0m\u001b[1;33m,\u001b[0m \u001b[1;36m2\u001b[0m\u001b[1;33m,\u001b[0m \u001b[1;36m3\u001b[0m\u001b[1;33m,\u001b[0m \u001b[1;36m4\u001b[0m\u001b[1;33m]\u001b[0m\u001b[1;33m:\u001b[0m\u001b[1;33m\u001b[0m\u001b[1;33m\u001b[0m\u001b[0m\n\u001b[0;32m      2\u001b[0m     \u001b[0mcalc\u001b[0m\u001b[1;33m.\u001b[0m\u001b[0mgenerate_clusters\u001b[0m\u001b[1;33m(\u001b[0m\u001b[0mo\u001b[0m\u001b[1;33m)\u001b[0m\u001b[1;33m\u001b[0m\u001b[1;33m\u001b[0m\u001b[0m\n\u001b[1;32m----> 3\u001b[1;33m     \u001b[0mnoise\u001b[0m \u001b[1;33m=\u001b[0m \u001b[0mcalc\u001b[0m\u001b[1;33m.\u001b[0m\u001b[0mcompute\u001b[0m\u001b[1;33m(\u001b[0m\u001b[0mts\u001b[0m\u001b[1;33m,\u001b[0m \u001b[0mmethod\u001b[0m\u001b[1;33m=\u001b[0m\u001b[1;34m'cce'\u001b[0m\u001b[1;33m,\u001b[0m \u001b[0mquantity\u001b[0m\u001b[1;33m=\u001b[0m\u001b[1;34m'noise'\u001b[0m\u001b[1;33m)\u001b[0m\u001b[1;33m\u001b[0m\u001b[1;33m\u001b[0m\u001b[0m\n\u001b[0m\u001b[0;32m      4\u001b[0m     \u001b[0mplt\u001b[0m\u001b[1;33m.\u001b[0m\u001b[0mplot\u001b[0m\u001b[1;33m(\u001b[0m\u001b[0mts\u001b[0m\u001b[1;33m,\u001b[0m \u001b[0mnoise\u001b[0m\u001b[1;33m.\u001b[0m\u001b[0mreal\u001b[0m\u001b[1;33m,\u001b[0m \u001b[0mlabel\u001b[0m\u001b[1;33m=\u001b[0m\u001b[0mo\u001b[0m\u001b[1;33m)\u001b[0m\u001b[1;33m\u001b[0m\u001b[1;33m\u001b[0m\u001b[0m\n\u001b[0;32m      5\u001b[0m \u001b[0mplt\u001b[0m\u001b[1;33m.\u001b[0m\u001b[0mxlabel\u001b[0m\u001b[1;33m(\u001b[0m\u001b[1;34m'Time (ms)'\u001b[0m\u001b[1;33m)\u001b[0m\u001b[1;33m\u001b[0m\u001b[1;33m\u001b[0m\u001b[0m\n",
      "\u001b[1;32m~\\Anaconda3\\lib\\site-packages\\pycce\\main.py\u001b[0m in \u001b[0;36mcompute\u001b[1;34m(self, timespace, quantity, method, **kwargs)\u001b[0m\n\u001b[0;32m   1116\u001b[0m \u001b[1;33m\u001b[0m\u001b[0m\n\u001b[0;32m   1117\u001b[0m             \u001b[1;32melse\u001b[0m\u001b[1;33m:\u001b[0m\u001b[1;33m\u001b[0m\u001b[1;33m\u001b[0m\u001b[0m\n\u001b[1;32m-> 1118\u001b[1;33m                 \u001b[0mresult\u001b[0m \u001b[1;33m=\u001b[0m \u001b[0mrunner\u001b[0m\u001b[1;33m.\u001b[0m\u001b[0mrun\u001b[0m\u001b[1;33m(\u001b[0m\u001b[1;33m)\u001b[0m\u001b[1;33m\u001b[0m\u001b[1;33m\u001b[0m\u001b[0m\n\u001b[0m\u001b[0;32m   1119\u001b[0m \u001b[1;33m\u001b[0m\u001b[0m\n\u001b[0;32m   1120\u001b[0m         \u001b[1;32melse\u001b[0m\u001b[1;33m:\u001b[0m\u001b[1;33m\u001b[0m\u001b[1;33m\u001b[0m\u001b[0m\n",
      "\u001b[1;32m~\\Anaconda3\\lib\\site-packages\\pycce\\run\\base.py\u001b[0m in \u001b[0;36mrun\u001b[1;34m(self, *args, **kwargs)\u001b[0m\n\u001b[0;32m    309\u001b[0m \u001b[1;33m\u001b[0m\u001b[0m\n\u001b[0;32m    310\u001b[0m         \"\"\"\n\u001b[1;32m--> 311\u001b[1;33m         \u001b[0mself\u001b[0m\u001b[1;33m.\u001b[0m\u001b[0mpreprocess\u001b[0m\u001b[1;33m(\u001b[0m\u001b[1;33m)\u001b[0m\u001b[1;33m\u001b[0m\u001b[1;33m\u001b[0m\u001b[0m\n\u001b[0m\u001b[0;32m    312\u001b[0m         \u001b[0mself\u001b[0m\u001b[1;33m.\u001b[0m\u001b[0mresult\u001b[0m \u001b[1;33m=\u001b[0m \u001b[0mself\u001b[0m\u001b[1;33m.\u001b[0m\u001b[0m__inner_kernel\u001b[0m\u001b[1;33m(\u001b[0m\u001b[0mself\u001b[0m\u001b[1;33m,\u001b[0m \u001b[1;33m*\u001b[0m\u001b[0margs\u001b[0m\u001b[1;33m,\u001b[0m \u001b[1;33m**\u001b[0m\u001b[0mkwargs\u001b[0m\u001b[1;33m)\u001b[0m\u001b[1;33m\u001b[0m\u001b[1;33m\u001b[0m\u001b[0m\n\u001b[0;32m    313\u001b[0m         \u001b[0mself\u001b[0m\u001b[1;33m.\u001b[0m\u001b[0mpostprocess\u001b[0m\u001b[1;33m(\u001b[0m\u001b[1;33m)\u001b[0m\u001b[1;33m\u001b[0m\u001b[1;33m\u001b[0m\u001b[0m\n",
      "\u001b[1;32m~\\Anaconda3\\lib\\site-packages\\pycce\\run\\corr.py\u001b[0m in \u001b[0;36mpreprocess\u001b[1;34m(self)\u001b[0m\n\u001b[0;32m    230\u001b[0m     \u001b[1;32mdef\u001b[0m \u001b[0mpreprocess\u001b[0m\u001b[1;33m(\u001b[0m\u001b[0mself\u001b[0m\u001b[1;33m)\u001b[0m\u001b[1;33m:\u001b[0m\u001b[1;33m\u001b[0m\u001b[1;33m\u001b[0m\u001b[0m\n\u001b[0;32m    231\u001b[0m         \u001b[0msuper\u001b[0m\u001b[1;33m(\u001b[0m\u001b[1;33m)\u001b[0m\u001b[1;33m.\u001b[0m\u001b[0mpreprocess\u001b[0m\u001b[1;33m(\u001b[0m\u001b[1;33m)\u001b[0m\u001b[1;33m\u001b[0m\u001b[1;33m\u001b[0m\u001b[0m\n\u001b[1;32m--> 232\u001b[1;33m         \u001b[0mpycce\u001b[0m\u001b[1;33m.\u001b[0m\u001b[0mcenter\u001b[0m\u001b[1;33m.\u001b[0m\u001b[0mgenerate_projections\u001b[0m\u001b[1;33m(\u001b[0m\u001b[1;33m)\u001b[0m\u001b[1;33m\u001b[0m\u001b[1;33m\u001b[0m\u001b[0m\n\u001b[0m\u001b[0;32m    233\u001b[0m         \u001b[1;32mif\u001b[0m \u001b[0mself\u001b[0m\u001b[1;33m.\u001b[0m\u001b[0mcenter\u001b[0m\u001b[1;33m.\u001b[0m\u001b[0msize\u001b[0m \u001b[1;33m>\u001b[0m \u001b[1;36m1\u001b[0m\u001b[1;33m:\u001b[0m\u001b[1;33m\u001b[0m\u001b[1;33m\u001b[0m\u001b[0m\n\u001b[0;32m    234\u001b[0m             \u001b[1;32mraise\u001b[0m \u001b[0mValueError\u001b[0m\u001b[1;33m(\u001b[0m\u001b[1;34m'Correlation calculations are supported only for single central spin'\u001b[0m\u001b[1;33m)\u001b[0m\u001b[1;33m\u001b[0m\u001b[1;33m\u001b[0m\u001b[0m\n",
      "\u001b[1;31mTypeError\u001b[0m: generate_projections() missing 1 required positional argument: 'state_a'"
     ]
    }
   ],
   "source": [
    "for o in [1, 2, 3, 4]:\n",
    "    calc.generate_clusters(o)\n",
    "    noise = calc.compute(ts, method='cce', quantity='noise')\n",
    "    plt.plot(ts, noise.real, label=o)\n",
    "plt.xlabel('Time (ms)')\n",
    "plt.ylabel('Correlation');"
   ]
  },
  {
   "cell_type": "markdown",
   "metadata": {},
   "source": [
    "The difference between third and fourth order is fairly small, we will use the fourth order for the following calculations. It will take a bit of a time, so you can grab some tea while you wait."
   ]
  },
  {
   "cell_type": "code",
   "execution_count": null,
   "metadata": {},
   "outputs": [],
   "source": [
    "calc.generate_clusters(4)\n",
    "\n",
    "noise = calc.compute(ts, method='cce', quantity='noise')\n",
    "genoise = calc.compute(ts, method='gcce', quantity='noise', nbstates=0)"
   ]
  },
  {
   "cell_type": "markdown",
   "metadata": {},
   "source": [
    "Compare the results obtained with CCE and gCCE approaches. Note that they are slighlity different. However, as we will see it does not impact the predicted coherence."
   ]
  },
  {
   "cell_type": "code",
   "execution_count": null,
   "metadata": {},
   "outputs": [],
   "source": [
    "plt.plot(ts, noise.real, label='CCE')\n",
    "plt.plot(ts, genoise.real, label='gCCE')\n",
    "plt.xlabel('Time (ms)')\n",
    "plt.ylabel('Correlation');"
   ]
  },
  {
   "cell_type": "markdown",
   "metadata": {},
   "source": [
    "Assuming that the noise is Gaussian, we can reproduce the coherence from the average phase squared $\\langle\\phi^2\\rangle$, accumulated by the spin qubit:\n",
    "\n",
    "$L(t)=e^{-\\langle \\phi^2(t) \\rangle}$\n",
    "\n",
    "The average phase is obtained from the autocorrelation function as:\n",
    "\n",
    "$\\langle \\phi^2(t) \\rangle = \\int_0^t{d\\tau C(\\tau) F(\\tau)}$\n",
    "\n",
    "Where $F(\\tau)$ is the correlation filter function (see [Phys. Rev. A 86, 012314 (2012)](https://doi.org/10.1103/PhysRevA.86.012314) for details).\n",
    "\n",
    "PyCCE code already has implemented calculations of the phase in the `pycce.filter` module:\n",
    "\n",
    "`pycce.filter.gaussian_phase` takes three positional arguments:\n",
    "- `timespace` - time points at which correlation function was computed;\n",
    "- `corr` - noise autocorrelation function;\n",
    "- `npulses` - number of pulses in CPMG sequence.\n",
    "\n",
    "Here we compute the phase for the Hahn-echo experiment. Note that the implementation of `gaussian_phase` is not heavily optimized and can take a hot second."
   ]
  },
  {
   "cell_type": "code",
   "execution_count": null,
   "metadata": {},
   "outputs": [],
   "source": [
    "import pycce.filter\n",
    "\n",
    "chis =  pycce.filter.gaussian_phase(ts, np.abs(noise), 1)\n",
    "gchis = pycce.filter.gaussian_phase(ts, np.abs(genoise), 1)"
   ]
  },
  {
   "cell_type": "markdown",
   "metadata": {},
   "source": [
    "Now compare results from direct calculations of the coherence function, and the one reconstructed from the noise autocorrelation:"
   ]
  },
  {
   "cell_type": "code",
   "execution_count": null,
   "metadata": {},
   "outputs": [],
   "source": [
    "plt.plot(ts, np.exp(-chis).real, ls='--', label='from noise (CCE)')\n",
    "plt.plot(ts, np.exp(-gchis).real, ls='--', marker='', label='from noise (generalized CCE)')\n",
    "plt.plot(ts, coh[4], label='CCE')\n",
    "plt.legend()\n",
    "plt.xlabel('Time (ms)')\n",
    "plt.ylabel('Coherence');"
   ]
  }
 ],
 "metadata": {
  "kernelspec": {
   "display_name": "Python 3",
   "language": "python",
   "name": "python3"
  },
  "language_info": {
   "codemirror_mode": {
    "name": "ipython",
    "version": 3
   },
   "file_extension": ".py",
   "mimetype": "text/x-python",
   "name": "python",
   "nbconvert_exporter": "python",
   "pygments_lexer": "ipython3",
   "version": "3.7.3"
  },
  "pycharm": {
   "stem_cell": {
    "cell_type": "raw",
    "metadata": {
     "collapsed": false
    },
    "source": []
   }
  }
 },
 "nbformat": 4,
 "nbformat_minor": 4
}
