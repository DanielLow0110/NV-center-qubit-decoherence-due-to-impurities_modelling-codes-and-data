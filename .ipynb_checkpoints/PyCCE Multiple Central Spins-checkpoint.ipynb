{
 "cells": [
  {
   "cell_type": "markdown",
   "metadata": {
    "pycharm": {
     "name": "#%% md\n"
    }
   },
   "source": [
    "# Multiple central spins\n",
    "\n",
    "Instead of one central spin, the PyCCE can be used to consider the dynamics of *N* central spins.\n",
    "\n",
    "Then the central spin Hamiltonian and spin-bath Hamiltonian are written as:\n",
    "\n",
    "\\begin{equation}\n",
    "\\hat H_S = \\sum_i \\mathbf{S_i D_i S_i} + \\mathbf{S_i \\gamma_{S_i} B} + \\sum_{i < j} \\mathbf{S_i K_{ij} S_j}\n",
    "\\end{equation}"
   ]
  },
  {
   "cell_type": "markdown",
   "metadata": {},
   "source": [
    "Where $\\mathbf{K_{ij}}$ are interaction tensors between central spins $i$ and $j$.\n",
    "\n",
    "The central spin-bath couplings can be defined as:\n",
    "\n",
    "\\begin{equation}\n",
    "\\hat H_{SB} = \\sum_{i,l} \\mathbf{S_iA_{ij}I_l}\n",
    "\\end{equation}"
   ]
  },
  {
   "cell_type": "code",
   "execution_count": 1,
   "metadata": {
    "pycharm": {
     "name": "#%%\n"
    }
   },
   "outputs": [],
   "source": [
    "import numpy as np\n",
    "import matplotlib.pyplot as plt\n",
    "import pandas as pd\n",
    "\n",
    "import sys\n",
    "import pycce as pc\n",
    "import ase\n",
    "\n",
    "seed = 8805\n",
    "np.random.seed(seed)\n",
    "np.set_printoptions(suppress=True, precision=4)"
   ]
  },
  {
   "cell_type": "code",
   "execution_count": 2,
   "metadata": {},
   "outputs": [],
   "source": [
    "import matplotlib as mpl  \n",
    "mpl.rcParams['figure.figsize'] = [12.0, 8.0]"
   ]
  },
  {
   "cell_type": "markdown",
   "metadata": {},
   "source": [
    "## Two NV Centers in Diamond\n",
    "First example is two NV centers in diamond. We begin by considering two non-interacting electron spins in the nuclear spin bath.\n",
    "\n",
    "We generate the nuclear $^{13}$C spin bath using a well-defined procedure."
   ]
  },
  {
   "cell_type": "code",
   "execution_count": 3,
   "metadata": {},
   "outputs": [],
   "source": [
    "from ase.build import bulk\n",
    "\n",
    "# Generate unitcell from ase\n",
    "diamond = pc.read_ase(bulk('C', 'diamond', cubic=True))\n",
    "diamond.zdir = [1,1,1]\n",
    "\n",
    "bath = diamond.gen_supercell(200, seed=seed, remove=('C', [0,0,0]))"
   ]
  },
  {
   "cell_type": "markdown",
   "metadata": {},
   "source": [
    "### Generating the `CenterArray` object\n",
    "\n",
    "The properties of the NVs are stored in the `CenterArray`.\n",
    "\n",
    "`CenterArray` object contains the properties of all central spins in the system. In this example, we prepare the array consisting of two electron spin-1, with the same ZFS and gyromagnetic ratio."
   ]
  },
  {
   "cell_type": "code",
   "execution_count": 4,
   "metadata": {},
   "outputs": [
    {
     "name": "stdout",
     "output_type": "stream",
     "text": [
      "CenterArray\n",
      "(s: [1. 1.],\n",
      "xyz:\n",
      "[[   0.    0.    0.]\n",
      " [   0.    0. 1000.]],\n",
      "zfs:\n",
      "[[[-800000.       0.       0.]\n",
      "  [      0. -800000.       0.]\n",
      "  [      0.       0. 1600000.]]\n",
      "\n",
      " [[-800000.       0.       0.]\n",
      "  [      0. -800000.       0.]\n",
      "  [      0.       0. 1600000.]]],\n",
      "gyro:\n",
      "[[[-17608.5971     -0.         -0.    ]\n",
      "  [    -0.     -17608.5971     -0.    ]\n",
      "  [    -0.         -0.     -17608.5971]]\n",
      "\n",
      " [[-17608.5971     -0.         -0.    ]\n",
      "  [    -0.     -17608.5971     -0.    ]\n",
      "  [    -0.         -0.     -17608.5971]]])\n"
     ]
    },
    {
     "name": "stderr",
     "output_type": "stream",
     "text": [
      "C:\\Users\\Daniel Low\\Anaconda3\\lib\\site-packages\\pycce\\center.py:318: FutureWarning: Conversion of the second argument of issubdtype from `int` to `np.signedinteger` is deprecated. In future, it will be treated as `np.int32 == np.dtype(int).type`.\n",
      "  if state.size == 1 and np.issubdtype(state.dtype, int):\n"
     ]
    }
   ],
   "source": [
    "D = 2.4e6  # in kHz\n",
    "gyro = pc.ci['e'].gyro  # gyromagnetic ratio of electron in rad/G/ms\n",
    "\n",
    "# Generate an array of two central spins, \n",
    "# each with the same D and gyromagnetic ratio value,\n",
    "# separated by 100 nm.\n",
    "nvs = pc.CenterArray(spin=[1, 1], D=[D, D], \n",
    "                     position=[[0, 0, 0], [0, 0, 1000]],\n",
    "                     gyro=[gyro, gyro], alpha=0, beta=2) \n",
    "\n",
    "print(nvs)  # Print properties of the central spin array"
   ]
  },
  {
   "cell_type": "markdown",
   "metadata": {},
   "source": [
    "You can access the properties of the central spins (and modify them) as items in `CenterArray`."
   ]
  },
  {
   "cell_type": "code",
   "execution_count": 5,
   "metadata": {},
   "outputs": [
    {
     "name": "stdout",
     "output_type": "stream",
     "text": [
      "Center\n",
      "(s: 1.0,\n",
      "xyz:\n",
      "[0. 0. 0.],\n",
      "zfs:\n",
      "[[-800000.       0.       0.]\n",
      " [      0. -800000.       0.]\n",
      " [      0.       0. 1600000.]],\n",
      "gyro:\n",
      "-17608.59705) \n",
      "\n",
      "CenterArray\n",
      "(s: [1. 1.],\n",
      "xyz:\n",
      "[[   0.    0.    0.]\n",
      " [   0.    0. 1000.]],\n",
      "zfs:\n",
      "[[[-800000.       0.       0.]\n",
      "  [      0. -800000.       0.]\n",
      "  [      0.       0. 1600000.]]\n",
      "\n",
      " [[-800000.       0.       0.]\n",
      "  [      0. -800000.       0.]\n",
      "  [      0.       0. 1600000.]]],\n",
      "gyro:\n",
      "[[[   989.9394    629.7526    554.6254]\n",
      "  [   641.9013    943.0174     56.2197]\n",
      "  [   568.4803    978.1593    265.0863]]\n",
      "\n",
      " [[-17608.5971     -0.         -0.    ]\n",
      "  [    -0.     -17608.5971     -0.    ]\n",
      "  [    -0.         -0.     -17608.5971]]])\n"
     ]
    }
   ],
   "source": [
    "print(nvs[0], '\\n')\n",
    "nvs[0].gyro = np.random.random((3,3)) * 1000\n",
    "print(nvs)\n",
    "nvs[0].gyro = np.eye(3) * pc.ELECTRON_GYRO"
   ]
  },
  {
   "cell_type": "markdown",
   "metadata": {},
   "source": [
    "For illustrative purposes, we will use identical nuclear spin environment for two NVs. For that we create a copy of the `BathArray`, shift it by 1000 angstroms, and concatenate two arrays.\n",
    "\n",
    "The `CenterArray` instance is provided as a `spin` keyword to the `Simulator` object. It can be later accesed as `Simulator.center` attribute."
   ]
  },
  {
   "cell_type": "code",
   "execution_count": 6,
   "metadata": {},
   "outputs": [
    {
     "name": "stdout",
     "output_type": "stream",
     "text": [
      "Simulator for center array of size 2.\n",
      "magnetic field:\n",
      "array([  0.,   0., 500.])\n",
      "\n",
      "Parameters of cluster expansion:\n",
      "r_bath: [40, 40]\n",
      "r_dipole: 6\n",
      "order: 2\n",
      "\n",
      "Bath consists of 1046 spins.\n",
      "\n",
      "Clusters include:\n",
      "1046  clusters of order 1.\n",
      "836  clusters of order 2.\n",
      "\n"
     ]
    }
   ],
   "source": [
    "bath2 = bath.copy()\n",
    "bath2.z += 1000\n",
    "\n",
    "calc = pc.Simulator(spin=nvs, bath=np.concatenate([bath, bath2]),\n",
    "                    r_bath=[40, 40], r_dipole=6, order=2, magnetic_field=500)\n",
    "print(calc)"
   ]
  },
  {
   "cell_type": "markdown",
   "metadata": {},
   "source": [
    "When the number of central spins is greater than one, hyperfine couplings in the ``BathArray`` have an additional dimension, corresponding to the two sets of the hyperfine couplings."
   ]
  },
  {
   "cell_type": "code",
   "execution_count": 7,
   "metadata": {},
   "outputs": [
    {
     "name": "stdout",
     "output_type": "stream",
     "text": [
      "(1046, 2, 3, 3)\n",
      "[[[ 2.3048  1.1078 -0.6608]\n",
      "  [ 1.1078 -1.0451 -0.1988]\n",
      "  [-0.6608 -0.1988 -1.2597]]\n",
      "\n",
      " [[-0.      0.      0.    ]\n",
      "  [ 0.     -0.      0.    ]\n",
      "  [ 0.      0.      0.    ]]]\n"
     ]
    }
   ],
   "source": [
    "print(calc.bath.A.shape)\n",
    "print(calc.bath[0].A)"
   ]
  },
  {
   "cell_type": "markdown",
   "metadata": {},
   "source": [
    "### Decoherence of entangled state\n",
    "Let's do some calculations! Note that `gcce` method in this case includes a lot (9-fold) larger Hilbert space, so it will take a bit longer.\n",
    "\n",
    "Here we compute the coherence function, defined as a decay of the offdiagonal element of the density matrix:\n",
    "\n",
    "\\begin{equation}\n",
    "L=\\langle 0 | \\hat \\rho | 1 \\rangle\n",
    "\\end{equation}\n",
    "\n",
    "Where $| 0 \\rangle$ and $| 1 \\rangle$ are defined as eigenstates of the central spin Hamiltonian introduced above."
   ]
  },
  {
   "cell_type": "code",
   "execution_count": 8,
   "metadata": {},
   "outputs": [
    {
     "name": "stderr",
     "output_type": "stream",
     "text": [
      "C:\\Users\\Daniel Low\\Anaconda3\\lib\\site-packages\\pycce\\center.py:318: FutureWarning: Conversion of the second argument of issubdtype from `int` to `np.signedinteger` is deprecated. In future, it will be treated as `np.int32 == np.dtype(int).type`.\n",
      "  if state.size == 1 and np.issubdtype(state.dtype, int):\n"
     ]
    },
    {
     "name": "stdout",
     "output_type": "stream",
     "text": [
      "Wall time: 1.28 s\n",
      "Wall time: 12.3 s\n"
     ]
    }
   ],
   "source": [
    "ts = np.linspace(0, 2)\n",
    "calc.alpha = 0 # 00 state\n",
    "calc.beta = 1 # -10 state\n",
    "cce = {}\n",
    "gcce = {}\n",
    "\n",
    "cce['01'] = calc.compute(ts, pulses=1)\n",
    "gcce['01'] = calc.compute(ts, method='gcce', pulses=1)\n",
    "\n",
    "calc.beta = 1 # 0-1 state\n",
    "cce['02'] = calc.compute(ts, pulses=1)\n",
    "gcce['02'] = calc.compute(ts, method='gcce', pulses=1)\n",
    "\n",
    "calc.beta = 3 # -1 -1 state\n",
    "%time cce['03'] = calc.compute(ts, pulses=1)\n",
    "%time gcce['03'] = calc.compute(ts, method='gcce', pulses=1)\n"
   ]
  },
  {
   "cell_type": "markdown",
   "metadata": {},
   "source": [
    "As expected, in the case of decoupled NV centers the coherence of the bell state decays as a product of separated NVs decoherence."
   ]
  },
  {
   "cell_type": "code",
   "execution_count": 9,
   "metadata": {},
   "outputs": [
    {
     "data": {
      "image/png": "[encoded data removed]",
      "text/plain": [
       "<Figure size 864x576 with 1 Axes>"
      ]
     },
     "metadata": {
      "needs_background": "light"
     },
     "output_type": "display_data"
    }
   ],
   "source": [
    "plt.plot(ts, cce['01'].real, label='01 CCE')\n",
    "plt.plot(ts, gcce['01'].real, ls='--', label='01 gCCE')\n",
    "\n",
    "plt.plot(ts, cce['02'].real, markevery=(2, 4), ls='', marker='o', label='02 CCE')\n",
    "plt.plot(ts, gcce['02'].real, ls='', marker='o', markevery=4, label='02 gCCE')\n",
    "\n",
    "plt.plot(ts, cce['03'].real, label='03 CCE')\n",
    "plt.plot(ts, gcce['03'].real, ls='--', label='03 gCCE')\n",
    "\n",
    "plt.plot(ts, gcce['02'].real * gcce['01'].real, ls='', marker='o', markevery=2, label='01*02')\n",
    "plt.ylabel('Coherence')\n",
    "plt.xlabel('Time (ms)')\n",
    "plt.legend();"
   ]
  },
  {
   "cell_type": "markdown",
   "metadata": {},
   "source": [
    "### Entanglement between two NVs\n",
    "\n",
    "We can use the PyCCE to predict how the entanglement evolves between two dipolarly coupled electron spins, initially prepared in the product state:\n",
    "\n",
    "\\begin{equation}\n",
    "| \\Psi \\rangle = \\frac{1}{2} (| 0 \\rangle + | -1 \\rangle) \\otimes (| 0 \\rangle + | -1 \\rangle)\n",
    "\\end{equation}\n",
    "\n",
    "We add interaction between two NVs by calling `nvs.point_dipole` method, that generates interaction tensors from point dipole approximation. We can also directly set interaction tensors by calling `nvs.add_interaction` method or modifiying `nvs.imap` attribute.\n"
   ]
  },
  {
   "cell_type": "code",
   "execution_count": 10,
   "metadata": {},
   "outputs": [
    {
     "name": "stdout",
     "output_type": "stream",
     "text": [
      "Initial amplitudes in Sz x Sz basis: [0.  0.  0.  0.  0.5 0.5 0.  0.5 0.5]\n",
      "Interaction tensor:\n",
      "[[ 416.3281   -0.       -0.    ]\n",
      " [  -0.      416.3281   -0.    ]\n",
      " [  -0.       -0.     -832.6562]]\n"
     ]
    }
   ],
   "source": [
    "nvs = pc.CenterArray(spin=[1, 1], D=[D, D],\n",
    "                     position=[[0, 0, 0], [0, 0, 50]],\n",
    "                     gyro=[gyro, gyro], alpha=0, beta=2)\n",
    "\n",
    "nvs.point_dipole() # Add interactions\n",
    "\n",
    "zero = np.array([0, 1, 0])\n",
    "one  = np.array([0, 0, 1])\n",
    "nvs[0].alpha = zero # Set qubit levels\n",
    "nvs[0].beta = one\n",
    "nvs[1].alpha = one\n",
    "nvs[1].beta = zero\n",
    "\n",
    "# Generate product state\n",
    "state = pc.normalize(np.kron(zero + one, zero + one))\n",
    "nvs.state = state\n",
    "print(\"Initial amplitudes in Sz x Sz basis:\", np.abs(nvs.state)) # Initial state\n",
    "print(\"Interaction tensor:\")\n",
    "print(nvs.imap[0, 1]) # in kHz"
   ]
  },
  {
   "cell_type": "markdown",
   "metadata": {},
   "source": [
    "We will use negativity (https://en.wikipedia.org/wiki/Negativity_(quantum_mechanics)) as a metric of entanglement, defined as:\n",
    "\n",
    "$ \\mathcal{N}(\\rho) \\equiv \\frac{||\\rho^{\\Gamma_A}||_1-1}{2}$"
   ]
  },
  {
   "cell_type": "code",
   "execution_count": 11,
   "metadata": {},
   "outputs": [],
   "source": [
    "#          0      1     2     3      4     5     6       7       8\n",
    "states = ['11', '10', '1-1', '01', '00', '0-1', '-11', '-10', '-1-1']\n",
    "\n",
    "def pltdm(t, dm, ax):\n",
    "    \"\"\"\n",
    "    Function to plot nonzero elements of the density matrix.\n",
    "    \"\"\"\n",
    "    for i, j in np.argwhere(np.triu(dm[0])):\n",
    "        label=r'$\\langle$' + f'{states[i]}'+r'$|\\rho|$'+ f'{states[j]}'+ r'$\\rangle$'\n",
    "        ax.plot(t, np.abs(dm[:, i, j]), label=label)\n",
    "\n",
    "\n",
    "def partial_transpose(dm0, dim, which):\n",
    "    \"\"\"\n",
    "    Get partial transpose of the density matrix.\n",
    "    \"\"\"\n",
    "    ish = dm0.shape\n",
    "    n = len(dim)\n",
    "    indexes = np.arange(len(dim)*2)\n",
    "    indexes[which] = n + which\n",
    "    indexes[n + which] = which\n",
    "    return dm0.reshape(*dim, *dim).transpose(*indexes).reshape(ish)\n",
    "\n",
    "def negativities(dms):\n",
    "    \"\"\"\n",
    "    Compute negativity for an array of density matrices.\n",
    "    \"\"\"\n",
    "    negs = []\n",
    "    for dm in dms:\n",
    "        pt = partial_transpose(dm, [3,3], 0)\n",
    "        tr_norm = np.linalg.norm(pt, ord='nuc')\n",
    "        negs.append((tr_norm - 1) / 2)\n",
    "    return np.array(negs)\n",
    "\n",
    "def rz(dm):\n",
    "    \"\"\"\n",
    "    Set density matrix elements equal to zero at zero timepoint to zero.\n",
    "    Removes numerical instabilities when we divide by a near-zero value.\n",
    "    \"\"\"\n",
    "    dm[np.broadcast_to((dm[0] == 0), dm.shape)] = 0\n",
    "    return dm"
   ]
  },
  {
   "cell_type": "markdown",
   "metadata": {},
   "source": [
    "First, compute the entanglement without dynamical decoupling pulses applied."
   ]
  },
  {
   "cell_type": "code",
   "execution_count": 12,
   "metadata": {},
   "outputs": [],
   "source": [
    "tfid = np.linspace(0, 0.01, 151)\n",
    "\n",
    "c = pc.Simulator(nvs, bath=bath, r_bath=40, r_dipole=6,\n",
    "                 order=2, pulses=0, magnetic_field=500)\n",
    "dmfid = rz(c.compute(tfid, method='gcce', fulldm=True))"
   ]
  },
  {
   "cell_type": "code",
   "execution_count": 13,
   "metadata": {},
   "outputs": [
    {
     "data": {
      "image/png": "[encoded data removed]",
      "text/plain": [
       "<Figure size 864x288 with 2 Axes>"
      ]
     },
     "metadata": {
      "needs_background": "light"
     },
     "output_type": "display_data"
    }
   ],
   "source": [
    "fig, axes = plt.subplots(1, 2, figsize=(12, 4))\n",
    "\n",
    "pltdm(tfid, dmfid, axes[0])\n",
    "axes[1].plot(tfid, negativities(dmfid))\n",
    "\n",
    "axes[0].legend()\n",
    "axes[0].set(ylabel='DM element', xlabel='Time (ms)')\n",
    "axes[1].set(ylabel='Negativity', xlabel='Time (ms)');"
   ]
  },
  {
   "cell_type": "markdown",
   "metadata": {},
   "source": [
    "Compare that to the case, when $\\pi$ pulse is applied to each of the electron spins.\n",
    "\n",
    "To create such pulse sequence, we specify the `which` keyword argument of the `Pulse` class with indexes of both NVs in the `CenterArray`."
   ]
  },
  {
   "cell_type": "code",
   "execution_count": null,
   "metadata": {},
   "outputs": [],
   "source": [
    "# Pulse, flipping simultaneously the two NVs\n",
    "p = pc.Pulse('x', np.pi, which=[0, 1])\n",
    "the = np.linspace(0, 0.3, 151)\n",
    "\n",
    "c = pc.Simulator(nvs, bath=bath, r_bath=40, r_dipole=6,\n",
    "                 order=2, pulses=[p], magnetic_field=500)\n",
    "\n",
    "dm_short = rz(c.compute(tfid, method='gcce', fulldm=True))\n",
    "dm = rz(c.compute(the, method='gcce', fulldm=True))"
   ]
  },
  {
   "cell_type": "markdown",
   "metadata": {},
   "source": [
    "As expected, we find a significantly prolonged entanglement between two electron spins."
   ]
  },
  {
   "cell_type": "code",
   "execution_count": null,
   "metadata": {},
   "outputs": [],
   "source": [
    "fig, axes = plt.subplots(2, 2, figsize=(12, 8))\n",
    "\n",
    "pltdm(tfid, dm_short, axes[0, 0])\n",
    "axes[0, 1].plot(tfid, negativities(dm_short))\n",
    "\n",
    "pltdm(the, dm, axes[1, 0])\n",
    "axes[1, 1].plot(the, negativities(dm))\n",
    "\n",
    "axes[0, 0].legend()\n",
    "\n",
    "for row in axes:\n",
    "    row[0].set(ylabel='DM element', xlabel='Time (ms)', ylim=(-0.01, 0.26))\n",
    "    row[1].set(ylabel='Negativity', xlabel='Time (ms)')"
   ]
  },
  {
   "cell_type": "markdown",
   "metadata": {},
   "source": [
    "## Si:Bi donor\n",
    "\n",
    "We use the PyCCE framework to reproduce paper: PHYSICAL REVIEW B 91, 245416 (2015) by S. J. Balian et al. Here, $^{209}$Bi nuclear spin 9/2 and electron spin 1/2 interact very strongly (~1.5 GHz hyperfine), with many avoided crossings arising and leading to clock transitions. The qubit states is chosen as a two energy levels of the hybrid electron and nuclear spins system.\n",
    "\n",
    "\n",
    "\n",
    "First, we prepare a `CenterArray`, containing the properties of two central spins."
   ]
  },
  {
   "cell_type": "code",
   "execution_count": null,
   "metadata": {},
   "outputs": [],
   "source": [
    "aiso = 1.4754e6\n",
    "im = np.eye(3) * aiso # Isotropic interaction tensor \n",
    "ebi = pc.CenterArray(spin=[1/2, 9/2],\n",
    "                     gyro=[pc.ci['e'].gyro, pc.ci['209Bi'].gyro],\n",
    "                     imap=im, alpha=6, beta=13)"
   ]
  },
  {
   "cell_type": "markdown",
   "metadata": {},
   "source": [
    "For visualization purposes, plot a diagram of the energies of the hybrid system as a function of magnetic field.\n",
    "Here the chosen qubit levels are highlighted with black points."
   ]
  },
  {
   "cell_type": "code",
   "execution_count": null,
   "metadata": {},
   "outputs": [],
   "source": [
    "ens = []\n",
    "ms = np.linspace(0, 4000, 51)  # applied magnetic field\n",
    "for mf in ms:\n",
    "    ebi.generate_states([0,0, mf])\n",
    "    ens.append(ebi.energies)\n",
    "\n",
    "ens = np.asarray(ens)\n",
    "\n",
    "lowerdf = pd.DataFrame(ens[:, :10]/1e6, index=ms/1e4,\n",
    "                       columns=np.arange(10))\n",
    "higherdf = pd.DataFrame(ens[:, :10:-1]/1e6, index=ms/1e4,\n",
    "                        columns=np.arange(11, ens.shape[1])[::-1])\n",
    "\n",
    "fig, ax = plt.subplots(figsize=(3, 4))\n",
    "\n",
    "lowerdf.plot(ax=ax, cmap='viridis', legend=False, lw=1)\n",
    "higherdf.plot(ax=ax, cmap='viridis', legend=False, lw=1)\n",
    "lowerdf[6].plot(ax=ax, color='black', ls=':', lw=2)\n",
    "higherdf[13].plot(ax=ax, color='black', ls=':', lw=2)\n",
    "ax.set(xlabel='B (T)', ylabel='E (GHz)', xlim=(0, 0.4));"
   ]
  },
  {
   "cell_type": "markdown",
   "metadata": {},
   "source": [
    "Now we define the calculations of hyperfine couplings for the electron spin."
   ]
  },
  {
   "cell_type": "code",
   "execution_count": null,
   "metadata": {},
   "outputs": [],
   "source": [
    "# PHYSICAL REVIEW B 68, 115322 (2003)\n",
    "#  https://link.springer.com/content/pdf/10.1007%2FBF02725533.pdf for Bi\n",
    "n_parameter = np.sqrt(0.029/0.069)\n",
    "# https://journals.aps.org/pr/pdf/10.1103/PhysRev.114.1219\n",
    "a_parameter = 25.09\n",
    "\n",
    "def factor(x, y, z, n=n_parameter, a=a_parameter, b=14.43):\n",
    "    top = np.exp(-np.sqrt(x ** 2 / (n * b) **2 + (y ** 2 + z ** 2) / (n * a) ** 2))\n",
    "    bottom = np.sqrt(np.pi * (n * a) ** 2 * (n * b) )\n",
    "\n",
    "    return top / bottom\n",
    "\n",
    "def contact_si(r, gamma_n, gamma_e=pc.ELECTRON_GYRO, \n",
    "               a_lattice=5.43, nu=186, n=n_parameter,\n",
    "               a=a_parameter, b=14.43):\n",
    "\n",
    "    k0 = 0.85 * 2 * np.pi / a_lattice\n",
    "    pre = 8 / 9 * gamma_n * gamma_e * pc.HBAR_MU0_O4PI * nu\n",
    "    xpart = factor(r[0], r[1], r[2], n=n, a=a, b=b) * np.cos(k0 * r[0])\n",
    "    ypart = factor(r[1], r[2], r[0], n=n, a=a, b=b) * np.cos(k0 * r[1])\n",
    "    zpart = factor(r[2], r[0], r[1], n=n, a=a, b=b) * np.cos(k0 * r[2])\n",
    "    return pre * (xpart + ypart + zpart) ** 2\n",
    "\n",
    "\n",
    "def func(bath):\n",
    "    na = np.newaxis\n",
    "    aiso = contact_si(bath.xyz.T, bath.gyro) # Contact term\n",
    "    # Generate dipolar terms\n",
    "    bath.from_center(ebi) \n",
    "    # Add contact term for electron spni\n",
    "    bath.A[:, 0] += np.eye(3)[na, :, :] * aiso[:, na, na]\n"
   ]
  },
  {
   "cell_type": "markdown",
   "metadata": {},
   "source": [
    "And prepare the spin bath using `ase` interface."
   ]
  },
  {
   "cell_type": "code",
   "execution_count": null,
   "metadata": {},
   "outputs": [],
   "source": [
    "si = pc.read_ase(bulk('Si', cubic=True))\n",
    "atoms = si.gen_supercell(200, remove=('Si', [0., 0, 0]), seed=seed)"
   ]
  },
  {
   "cell_type": "markdown",
   "metadata": {},
   "source": [
    "### Away from avoided crossings\n",
    "Chosen energy levels 6 <-> 14 give raise to the clock transition (CT) at ~800 G. First compute the coherence avay from CT at 3200 G. It will take some time, as the bath is large."
   ]
  },
  {
   "cell_type": "code",
   "execution_count": null,
   "metadata": {},
   "outputs": [],
   "source": [
    "nts = np.linspace(0, 2, 101)\n",
    "sicalc = pc.Simulator(ebi, bath=atoms, r_bath=80, r_dipole=6,\n",
    "                      order=2, magnetic_field=3200, pulses=1,\n",
    "                      hyperfine=func)\n",
    "orders = [1, 2, 3]\n",
    "\n",
    "ls = []\n",
    "for v in orders:\n",
    "    sicalc.order = v\n",
    "    ls.append(sicalc.compute(nts).real)\n",
    "\n",
    "dfoff = pd.DataFrame(ls, columns=nts, index=orders).T"
   ]
  },
  {
   "cell_type": "code",
   "execution_count": null,
   "metadata": {},
   "outputs": [],
   "source": [
    "dfoff.plot()\n",
    "plt.xlabel('Time (ms)')\n",
    "plt.ylabel('Coherence');"
   ]
  },
  {
   "cell_type": "markdown",
   "metadata": {},
   "source": [
    "### Near avoided crossings\n",
    "\n",
    "Now compare that to the coherence near the CT ( -4G from CT). Note, that number of clusters considered here is already rather large, so the calculations will take a minute or two."
   ]
  },
  {
   "cell_type": "code",
   "execution_count": null,
   "metadata": {},
   "outputs": [],
   "source": [
    "ts = np.linspace(0, 100, 101)\n",
    "\n",
    "sicalc.magnetic_field = 791\n",
    "orders = [1, 2, 3, 4]\n",
    "\n",
    "ls = []\n",
    "for v in orders:\n",
    "    sicalc.order = v\n",
    "    ls.append(sicalc.compute(ts).real)\n",
    "\n",
    "dfat = pd.DataFrame(ls, columns=ts, index=orders).T"
   ]
  },
  {
   "cell_type": "code",
   "execution_count": null,
   "metadata": {},
   "outputs": [],
   "source": [
    "dfat.plot()\n",
    "plt.xlabel('Time (ms)')\n",
    "plt.ylabel('Coherence');"
   ]
  },
  {
   "cell_type": "markdown",
   "metadata": {},
   "source": [
    "Exactly at CT one needs even higher `order`, larger `r_bath` and `r_dipole`, and random bath state sampling to get accurate results. It is left as an exersize to the reader to try and converge the coherence at clock transition."
   ]
  }
 ],
 "metadata": {
  "kernelspec": {
   "display_name": "Python 3",
   "language": "python",
   "name": "python3"
  },
  "language_info": {
   "codemirror_mode": {
    "name": "ipython",
    "version": 3
   },
   "file_extension": ".py",
   "mimetype": "text/x-python",
   "name": "python",
   "nbconvert_exporter": "python",
   "pygments_lexer": "ipython3",
   "version": "3.7.3"
  },
  "pycharm": {
   "stem_cell": {
    "cell_type": "raw",
    "metadata": {
     "collapsed": false
    },
    "source": []
   }
  }
 },
 "nbformat": 4,
 "nbformat_minor": 4
}
